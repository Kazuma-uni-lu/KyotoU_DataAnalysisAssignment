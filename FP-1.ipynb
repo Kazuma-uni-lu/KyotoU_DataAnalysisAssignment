{
 "cells": [
  {
   "cell_type": "markdown",
   "metadata": {},
   "source": [
    "___\n",
    "\n",
    "# Analysis of factors contributing to bike rentals\n",
    "\n",
    "\n",
    "### Overview:\n",
    "\n",
    "\n",
    "* **Name**:  Sileas Kazuma Hugot\n",
    "* **Student number**:  B990372166\n",
    "\n",
    "<br>"
   ]
  },
  {
   "cell_type": "markdown",
   "metadata": {},
   "source": [
    "### Purpose:\n",
    "\n",
    "* The purpose of this project is to determine the weather factors that lead to bike rentals in Seoul, Korea\n",
    "* The key dependent variable is the \"Rentend Bike Count\" an integer.\n",
    "* The key independent variable are:\n",
    "    * Date\n",
    "    * Hour\n",
    "    * Temperature\n",
    "    * Humidity\n",
    "    * Windspeed\n",
    "    * Visibility\n",
    "    * Dew point temperature\n",
    "    * Solar radiation\n",
    "    * Rainfall\n",
    "    * Snowfall\n",
    "    * Seasons\n",
    "    * Whether it is a holiday\n",
    "    * Whether it is a functional day\n",
    "* It has 8760 instances (different hours and dates measurements) there are no missing values for the instances.\n",
    "\n",
    "\n",
    "<br>"
   ]
  },
  {
   "cell_type": "markdown",
   "metadata": {},
   "source": [
    "### Dataset source:\n",
    "The data come from the [Seoul Bike Sharing Demand](https://archive.ics.uci.edu/dataset/560/seoul+bike+sharing+demand) dataset from the [UCI Machine Learning repository](https://archive.ics.uci.edu/ml/index.php):\n",
    "\n",
    "Available for download [here](https://archive.ics.uci.edu/static/public/560/seoul+bike+sharing+demand.zip)\n",
    "\n",
    "#### Reference:\n",
    "Sathishkumar V E, Jangwoo Park, Yongyun Cho, \"Using data mining techniques for bike sharing demand prediction in Metropolitan city\", Computer Communications, vol. 153, pp. 353-366, 2020. Sathishkumar V E, Yongyun Cho, \"A rule-based model for Seoul Bike sharing demand prediction using Weather data\", European Journal of Remote Sensing, Vol. 52, no. 1, pp. 166-183, 2020.\n",
    "\n",
    "<br>\n",
    "<br>\n",
    "<br>\n",
    "<br>"
   ]
  }
 ],
 "metadata": {
  "kernelspec": {
   "display_name": "Python 3 (ipykernel)",
   "language": "python",
   "name": "python3"
  },
  "language_info": {
   "codemirror_mode": {
    "name": "ipython",
    "version": 3
   },
   "file_extension": ".py",
   "mimetype": "text/x-python",
   "name": "python",
   "nbconvert_exporter": "python",
   "pygments_lexer": "ipython3",
   "version": "3.12.7"
  }
 },
 "nbformat": 4,
 "nbformat_minor": 4
}
